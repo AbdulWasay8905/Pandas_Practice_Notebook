{
 "cells": [
  {
   "cell_type": "markdown",
   "id": "a5e80247-a910-4aaf-a4b3-25e59b43906a",
   "metadata": {},
   "source": [
    "# Data Structure in pandas\n",
    "## series"
   ]
  },
  {
   "cell_type": "code",
   "execution_count": 3,
   "id": "c7affe1f-491f-41e6-98e8-715e128bb53a",
   "metadata": {},
   "outputs": [
    {
     "name": "stdout",
     "output_type": "stream",
     "text": [
      "a    1.0\n",
      "b    2.0\n",
      "c    3.0\n",
      "d    4.0\n",
      "e    5.0\n",
      "Name: python , dtype: float64\n",
      "<class 'pandas.core.series.Series'>\n",
      "2.0\n"
     ]
    }
   ],
   "source": [
    "import pandas as pd\n",
    "x=[1,2,3,4,5]\n",
    "s=pd.Series(x,index=['a','b','c','d','e'],dtype=float,name='python ')\n",
    "print(s)\n",
    "print(type(s))\n",
    "print(s['b'])"
   ]
  },
  {
   "cell_type": "code",
   "execution_count": 5,
   "id": "97fca70d-1af8-4b87-9a99-dce381c62227",
   "metadata": {},
   "outputs": [
    {
     "name": "stdout",
     "output_type": "stream",
     "text": [
      "name    [java, c, python]\n",
      "por          [12, 13, 14]\n",
      "rank            [2, 4, 1]\n",
      "dtype: object\n"
     ]
    }
   ],
   "source": [
    "dic={\n",
    "    'name':['java','c','python'],\n",
    "    'por':[12,13,14],\n",
    "    'rank':[2,4,1]\n",
    "}\n",
    "s=pd.Series(dic)\n",
    "print(s)"
   ]
  },
  {
   "cell_type": "code",
   "execution_count": 7,
   "id": "0a082e97-3145-4079-a1d3-c13750c065bf",
   "metadata": {},
   "outputs": [
    {
     "name": "stdout",
     "output_type": "stream",
     "text": [
      "1    24.0\n",
      "2    24.0\n",
      "3    24.0\n",
      "4    24.0\n",
      "5     NaN\n",
      "6     NaN\n",
      "7     NaN\n",
      "dtype: float64\n"
     ]
    }
   ],
   "source": [
    "s1=pd.Series(12,index=[1,2,3,4,5,6,7])\n",
    "s2=pd.Series(12,index=[1,2,3,4])\n",
    "\n",
    "print(s1+s2)"
   ]
  },
  {
   "cell_type": "code",
   "execution_count": 31,
   "id": "5db28564-bb29-4ceb-bc57-80336b5a6f1c",
   "metadata": {},
   "outputs": [
    {
     "data": {
      "text/plain": [
       "Karachi       True\n",
       "Lahore       False\n",
       "islamabad     True\n",
       "dtype: bool"
      ]
     },
     "execution_count": 31,
     "metadata": {},
     "output_type": "execute_result"
    }
   ],
   "source": [
    "states=[\"Karachi \",\"Lahore\",\"islamabad\"]\n",
    "sdata={\"Lahore\":233,\"Islamabad\":433}\n",
    "s1=pd.Series(sdata,index=states)\n",
    "s1.isnull() \n"
   ]
  },
  {
   "cell_type": "code",
   "execution_count": 33,
   "id": "057afce1-2c2a-4eef-b6ef-309a149fb812",
   "metadata": {},
   "outputs": [
    {
     "data": {
      "text/plain": [
       "Karachi      False\n",
       "Lahore        True\n",
       "islamabad    False\n",
       "dtype: bool"
      ]
     },
     "execution_count": 33,
     "metadata": {},
     "output_type": "execute_result"
    }
   ],
   "source": [
    "s1.notnull()"
   ]
  },
  {
   "cell_type": "markdown",
   "id": "c4e70996-ed01-4cee-84fc-6627dc557113",
   "metadata": {},
   "source": [
    "## Data Frame\n"
   ]
  },
  {
   "cell_type": "code",
   "execution_count": 46,
   "id": "c1dfa1f3-d622-4dd6-9193-a45402e68361",
   "metadata": {},
   "outputs": [
    {
     "name": "stdout",
     "output_type": "stream",
     "text": [
      "   0\n",
      "0  1\n",
      "1  2\n",
      "2  3\n",
      "3  4\n"
     ]
    }
   ],
   "source": [
    "df=pd.DataFrame([1,2,3,4])\n",
    "print(df)"
   ]
  },
  {
   "cell_type": "code",
   "execution_count": 66,
   "id": "8aa65ea2-cf42-41ca-8aed-47024948af4e",
   "metadata": {},
   "outputs": [
    {
     "name": "stdout",
     "output_type": "stream",
     "text": [
      "    a  1\n",
      "0   1  1\n",
      "1  23  2\n",
      "2   4  3\n",
      "3   5  4\n",
      "23\n"
     ]
    }
   ],
   "source": [
    "d={'a':[1,23,4,5],'b':[2,6,7,5],1:[1,2,3,4]}\n",
    "df=pd.DataFrame(d,columns=['a',1])\n",
    "print(df)\n",
    "print(df['a'][1])\n",
    " "
   ]
  },
  {
   "cell_type": "code",
   "execution_count": 68,
   "id": "62ee5538-db2c-4b1b-b6dc-bdc121eddf01",
   "metadata": {},
   "outputs": [
    {
     "name": "stdout",
     "output_type": "stream",
     "text": [
      "   0   1   2   3\n",
      "0  1   2   3   4\n",
      "1  5   6   7   8\n",
      "2  9  10  11  12\n"
     ]
    }
   ],
   "source": [
    "l=[[1,2,3,4],[5,6,7,8],[9,10,11,12]]\n",
    "df=pd.DataFrame(l)\n",
    "print(df)"
   ]
  },
  {
   "cell_type": "code",
   "execution_count": 70,
   "id": "1b435259-f3ec-461a-adda-5d49c80cad4e",
   "metadata": {},
   "outputs": [
    {
     "data": {
      "text/html": [
       "<div>\n",
       "<style scoped>\n",
       "    .dataframe tbody tr th:only-of-type {\n",
       "        vertical-align: middle;\n",
       "    }\n",
       "\n",
       "    .dataframe tbody tr th {\n",
       "        vertical-align: top;\n",
       "    }\n",
       "\n",
       "    .dataframe thead th {\n",
       "        text-align: right;\n",
       "    }\n",
       "</style>\n",
       "<table border=\"1\" class=\"dataframe\">\n",
       "  <thead>\n",
       "    <tr style=\"text-align: right;\">\n",
       "      <th></th>\n",
       "      <th>s</th>\n",
       "      <th>r</th>\n",
       "    </tr>\n",
       "  </thead>\n",
       "  <tbody>\n",
       "    <tr>\n",
       "      <th>0</th>\n",
       "      <td>1</td>\n",
       "      <td>6.0</td>\n",
       "    </tr>\n",
       "    <tr>\n",
       "      <th>1</th>\n",
       "      <td>2</td>\n",
       "      <td>7.0</td>\n",
       "    </tr>\n",
       "    <tr>\n",
       "      <th>2</th>\n",
       "      <td>3</td>\n",
       "      <td>8.0</td>\n",
       "    </tr>\n",
       "    <tr>\n",
       "      <th>3</th>\n",
       "      <td>4</td>\n",
       "      <td>9.0</td>\n",
       "    </tr>\n",
       "    <tr>\n",
       "      <th>4</th>\n",
       "      <td>5</td>\n",
       "      <td>NaN</td>\n",
       "    </tr>\n",
       "  </tbody>\n",
       "</table>\n",
       "</div>"
      ],
      "text/plain": [
       "   s    r\n",
       "0  1  6.0\n",
       "1  2  7.0\n",
       "2  3  8.0\n",
       "3  4  9.0\n",
       "4  5  NaN"
      ]
     },
     "execution_count": 70,
     "metadata": {},
     "output_type": "execute_result"
    }
   ],
   "source": [
    "sr={'s':pd.Series([1,2,3,4,5]),'r':pd.Series([6,7,8,9])}\n",
    "df=pd.DataFrame(sr)\n",
    "df"
   ]
  },
  {
   "cell_type": "code",
   "execution_count": null,
   "id": "0ee10911-69dc-4aac-a34c-2aea65d70edc",
   "metadata": {},
   "outputs": [],
   "source": []
  }
 ],
 "metadata": {
  "kernelspec": {
   "display_name": "Python 3 (ipykernel)",
   "language": "python",
   "name": "python3"
  },
  "language_info": {
   "codemirror_mode": {
    "name": "ipython",
    "version": 3
   },
   "file_extension": ".py",
   "mimetype": "text/x-python",
   "name": "python",
   "nbconvert_exporter": "python",
   "pygments_lexer": "ipython3",
   "version": "3.12.7"
  }
 },
 "nbformat": 4,
 "nbformat_minor": 5
}
